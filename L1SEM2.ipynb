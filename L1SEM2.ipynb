{
  "nbformat": 4,
  "nbformat_minor": 0,
  "metadata": {
    "colab": {
      "name": "L1_11.03",
      "provenance": [],
      "collapsed_sections": [],
      "authorship_tag": "ABX9TyO1osyZbGfjmBSnUf04+Yi2",
      "include_colab_link": true
    },
    "kernelspec": {
      "name": "python3",
      "display_name": "Python 3"
    }
  },
  "cells": [
    {
      "cell_type": "markdown",
      "metadata": {
        "id": "view-in-github",
        "colab_type": "text"
      },
      "source": [
        "<a href=\"https://colab.research.google.com/github/KingaTeklak/homework/blob/main/L1SEM2.ipynb\" target=\"_parent\"><img src=\"https://colab.research.google.com/assets/colab-badge.svg\" alt=\"Open In Colab\"/></a>"
      ]
    },
    {
      "cell_type": "markdown",
      "metadata": {
        "id": "b262jodrQpJ4"
      },
      "source": [
        "# Lista nr **1**"
      ]
    },
    {
      "cell_type": "code",
      "metadata": {
        "id": "f3OnecuXQTd1"
      },
      "source": [
        "import random\r\n",
        "import copy"
      ],
      "execution_count": 3,
      "outputs": []
    },
    {
      "cell_type": "code",
      "metadata": {
        "id": "Fs6bj1oTQ5BL"
      },
      "source": [
        "class Vector:\r\n",
        "  def __init__(self, size = 3):\r\n",
        "    self.size = size\r\n",
        "    self.vector = []\r\n",
        "    for i in range(size):\r\n",
        "        self.vector.append(0)\r\n",
        "\r\n",
        "  def vector_generate(self):\r\n",
        "    \"\"\"metoda zwraca wektor o wymiarze size\"\"\"\r\n",
        "    self.vector = []\r\n",
        "    for i in range(self.size):\r\n",
        "      self.vector.append(random.randint(0,100))\r\n",
        "  \r\n",
        "\r\n",
        "  def vector_from_list(self, lst):\r\n",
        "    \"\"\"wczytuje elementy wektora z listy podanej jako argument\"\"\"\r\n",
        "    self.size = len(lst)\r\n",
        "    self.vector = copy.deepcopy(lst)\r\n",
        "    \r\n",
        "\r\n",
        "\r\n",
        "  def __add__(self, other_vector):\r\n",
        "    \"\"\"metoda dodaje do siebie wektory równych wymiarów\"\"\"\r\n",
        "    if (self.size != other_vector.size):\r\n",
        "      return ValueError\r\n",
        "    else:\r\n",
        "      new_vector = Vector(self.size)\r\n",
        "      #print(self.vector, other_vector.vector)\r\n",
        "      for i in range(self.size):\r\n",
        "        new_vector.vector[i] = self.vector[i]+other_vector.vector[i]\r\n",
        "      #print(new_vector.vector)\r\n",
        "      return new_vector\r\n",
        "\r\n",
        "  def __rmul__(self, scalar):\r\n",
        "    \"\"\"operator mnoży wektor przez skalar, gdzie v=2*w\"\"\"\r\n",
        "    new_vector = Vector(self.size)\r\n",
        "    for i in range(self.size):\r\n",
        "      new_vector.vector[i] = self.vector[i] * scalar\r\n",
        "    #print(new_vector.vector)\r\n",
        "    return new_vector\r\n",
        "\r\n",
        "# Można też: return self* scalar\r\n",
        "\r\n",
        "  def __mul__(self, scalar):\r\n",
        "    \"\"\"operator mnoży wektor przez skalar,gdzie v = w*2\"\"\"\r\n",
        "    new_vector = Vector(self.size)\r\n",
        "    for i in range(self.size):\r\n",
        "      new_vector.vector[i] = self.vector[i] * scalar\r\n",
        "    #print(new_vector.vector)\r\n",
        "    return new_vector\r\n",
        "\r\n",
        "  def vector_lenght(self):\r\n",
        "    \"metoda wyliczająca długość wektora\"\r\n",
        "    vector_lenght = 0\r\n",
        "    #print(self.vector)\r\n",
        "    for i in self.vector:\r\n",
        "      vector_lenght += i**2\r\n",
        "    #print(vector_lenght**0.5)\r\n",
        "    return vector_lenght**0.5\r\n",
        "\r\n",
        "  def sum_elements(self):\r\n",
        "    \"metoda wylicza sumę elementów wektora\"\r\n",
        "    sum_elem = 0\r\n",
        "    for i in self.vector:\r\n",
        "      sum_elem += i\r\n",
        "    #print(sum_elem)\r\n",
        "    return sum_elem\r\n",
        "\r\n",
        "  def scalar_product(self, other_vector):\r\n",
        "    if (self.size != other_vector.size):\r\n",
        "      return ValueError\r\n",
        "    else:\r\n",
        "      new_vector = 0\r\n",
        "      #print(self.vector, other_vector.vector)\r\n",
        "      for i in range(self.size):\r\n",
        "        new_vector += self.vector[i]*other_vector.vector[i]\r\n",
        "      #print(new_vector)  \r\n",
        "      return new_vector    \r\n",
        "\r\n",
        "  def __str__(self):\r\n",
        "    \"\"\"metoda zwraca reprezentacje tekstową wektora\"\"\"\r\n",
        "    return \"{self.vector}\".format(self = self)\r\n",
        "\r\n",
        "# Można też: try / exept; ValueError\r\n",
        "  def __getitem__(self, index):\r\n",
        "    \"\"\"operator [] pozwalający na dostęp do konkretnych elementów wektora\"\"\"\r\n",
        "    if index + 1 > self.size:\r\n",
        "      return f\"Za duży index, maksymalna liczba to : {self.size}\"\r\n",
        "    return self.vector[index]\r\n",
        "\r\n",
        "  def __iter__(self):\r\n",
        "    \"\"\"operator in sprawdzający przynależność elementu do wektora\"\"\"\r\n",
        "    self.n = 0\r\n",
        "    return self\r\n",
        "\r\n",
        "#Poprawione po zajęciach:\r\n",
        "  def __next__(self):\r\n",
        "    \"\"\" metoda zwraca następny element sekwencji, aż do ostatniego elementu\"\"\"\r\n",
        "    if self.n < self.size:\r\n",
        "      self.n +=1\r\n",
        "      return self.vector[self.n -1]\r\n",
        "    else:\r\n",
        "      raise StopIteration\r\n",
        "\r\n",
        "  "
      ],
      "execution_count": 4,
      "outputs": []
    },
    {
      "cell_type": "code",
      "metadata": {
        "colab": {
          "base_uri": "https://localhost:8080/"
        },
        "id": "7sKZSVFUVZu9",
        "outputId": "56a43ed5-01d8-47f3-8dd0-b1f383245173"
      },
      "source": [
        "vector_1 = Vector()\r\n",
        "#print(vector_1.vector)\r\n",
        "#print(vector_1.size)\r\n",
        "print(vector_1.vector)\r\n",
        "\r\n",
        "print(\"----add------\")\r\n",
        "u=Vector(3)\r\n",
        "w=Vector(6)\r\n",
        "w.vector_generate()\r\n",
        "print(w,\"w\")\r\n",
        "u.vector_from_list([1,2,4,6,8,11])\r\n",
        "v=u+w\r\n",
        "print(u, \"to jest u\")\r\n",
        "str(u+2*w)\r\n",
        "print(\"-----mul-----\")\r\n",
        "v = u*2\r\n",
        "v = 2*u\r\n",
        "str(u*10)\r\n",
        "str(10*v)\r\n",
        "print(\"-----lenght-----\")\r\n",
        "v.vector_lenght()\r\n",
        "print(\"----sum----\")\r\n",
        "v.sum_elements()\r\n",
        "print(\"---scalar---\")\r\n",
        "u.scalar_product(v)\r\n",
        "print(\"-----str----\")\r\n",
        "print(v)\r\n",
        "print(u)\r\n",
        "#'{}'.format(v)\r\n",
        "str(v+u)\r\n",
        "print(\"-----getitem----\")\r\n",
        "v[2]\r\n",
        "print(\"----iter----\")\r\n",
        "10 in u.vector"
      ],
      "execution_count": 7,
      "outputs": [
        {
          "output_type": "stream",
          "text": [
            "[0, 0, 0]\n",
            "----add------\n",
            "[8, 57, 38, 81, 80, 53] w\n",
            "[1, 2, 4, 6, 8, 11] to jest u\n",
            "-----mul-----\n",
            "-----lenght-----\n",
            "----sum----\n",
            "---scalar---\n",
            "-----str----\n",
            "[2, 4, 8, 12, 16, 22]\n",
            "[1, 2, 4, 6, 8, 11]\n",
            "-----getitem----\n",
            "----iter----\n"
          ],
          "name": "stdout"
        },
        {
          "output_type": "execute_result",
          "data": {
            "text/plain": [
              "False"
            ]
          },
          "metadata": {
            "tags": []
          },
          "execution_count": 7
        }
      ]
    },
    {
      "cell_type": "code",
      "metadata": {
        "id": "7Np3QsD_n8d3"
      },
      "source": [
        ""
      ],
      "execution_count": null,
      "outputs": []
    }
  ]
}