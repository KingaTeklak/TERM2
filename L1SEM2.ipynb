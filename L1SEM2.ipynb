{
  "nbformat": 4,
  "nbformat_minor": 0,
  "metadata": {
    "colab": {
      "name": "L1SEM2",
      "provenance": [],
      "collapsed_sections": [],
      "authorship_tag": "ABX9TyPMAjaxnIuxHbKMKn+i/OGM",
      "include_colab_link": true
    },
    "kernelspec": {
      "name": "python3",
      "display_name": "Python 3"
    }
  },
  "cells": [
    {
      "cell_type": "markdown",
      "metadata": {
        "id": "view-in-github",
        "colab_type": "text"
      },
      "source": [
        "<a href=\"https://colab.research.google.com/github/KingaTeklak/homework/blob/main/L1SEM2.ipynb\" target=\"_parent\"><img src=\"https://colab.research.google.com/assets/colab-badge.svg\" alt=\"Open In Colab\"/></a>"
      ]
    },
    {
      "cell_type": "code",
      "metadata": {
        "id": "XqMDVkCKtPqr"
      },
      "source": [
        "import random"
      ],
      "execution_count": 1,
      "outputs": []
    },
    {
      "cell_type": "code",
      "metadata": {
        "colab": {
          "base_uri": "https://localhost:8080/"
        },
        "id": "0WYbYbnrXfuJ",
        "outputId": "90a545ad-6343-4aee-cb72-0646809a7c0d"
      },
      "source": [
        "class Vector:\r\n",
        "  def __init__(self, size=3):\r\n",
        "    self.size = size\r\n",
        "\r\n",
        "  def make_vector_elements(self):\r\n",
        "    \"\"\"metoda generuje losową wartość współrzędnych wektora\"\"\"\r\n",
        "    vector = []\r\n",
        "    for i in range(self.size):\r\n",
        "      vector.append(random.randint(0,100))\r\n",
        "    return vector\r\n",
        "\r\n",
        "  def make_vector_from_list(self, lst):\r\n",
        "    \"\"\"metoda zwraca wektor skadający się ze współrzędnych podanych w argumencie\"\"\"\r\n",
        "    return lst\r\n",
        "  \r\n",
        "  def add_vectors(self,vector):\r\n",
        "    \"\"\"metoda dodaje do siebie wektory równych wymiarów\"\"\"\r\n",
        "    new_vector = []\r\n",
        "    vector_1 = self.make_vector_elements()\r\n",
        "    if self.size != len(vector):\r\n",
        "      return ValueError\r\n",
        "    else:\r\n",
        "      for i in range(len(vector)):\r\n",
        "        sum = vector_1[i] + vector[i]\r\n",
        "        new_vector.append(sum)\r\n",
        "      return new_vector\r\n",
        "\r\n",
        "  def scalar_multiplication(self, scalar):\r\n",
        "    vector = self.make_vector_elements()\r\n",
        "    for i in range(len(vector)):\r\n",
        "      vector[i] *= scalar\r\n",
        "    return vector\r\n",
        "\r\n",
        "  def vector_lenght(self):\r\n",
        "    sum = 0\r\n",
        "    vector = self.make_vector_elements()\r\n",
        "    for i in range(len(vector)):\r\n",
        "      sum += vector[i]**2\r\n",
        "    return sum**(0.5)\r\n",
        "\r\n",
        "  def elements_sum(self):\r\n",
        "    sum = 0\r\n",
        "    vector = self.make_vector_elements()\r\n",
        "    for i in range(len(vector)):\r\n",
        "      sum += vector[i]\r\n",
        "    return sum\r\n",
        "\r\n",
        "  def dot_product(self, vector):\r\n",
        "    dot_product = 0\r\n",
        "    vector_1 = self.make_vector_elements()\r\n",
        "    if self.size != len(vector):\r\n",
        "      return ValueError\r\n",
        "    else:\r\n",
        "      for i in range(len(vector)):\r\n",
        "        dot_product += vector_1[i] * vector[i]\r\n",
        "        \r\n",
        "      return dot_product\r\n",
        "\r\n",
        "  def show_vector(self):\r\n",
        "    vector = self.make_vector_elements()\r\n",
        "    \r\n",
        "    return tuple(vector)\r\n",
        "      \r\n",
        "\r\n",
        "\r\n",
        "\r\n",
        "v = Vector()\r\n",
        "\r\n",
        "v.add_vectors([1,2,3])\r\n",
        "v.scalar_multiplication(2)\r\n",
        "v.vector_lenght()\r\n",
        "v.elements_sum()\r\n",
        "v.dot_product([1,2,3])\r\n",
        "v.show_vector()"
      ],
      "execution_count": 40,
      "outputs": [
        {
          "output_type": "execute_result",
          "data": {
            "text/plain": [
              "(38, 92, 61)"
            ]
          },
          "metadata": {
            "tags": []
          },
          "execution_count": 40
        }
      ]
    },
    {
      "cell_type": "code",
      "metadata": {
        "id": "5i1cXEoBzVN2"
      },
      "source": [
        ""
      ],
      "execution_count": null,
      "outputs": []
    }
  ]
}