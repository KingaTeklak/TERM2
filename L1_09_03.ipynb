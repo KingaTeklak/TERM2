{
  "nbformat": 4,
  "nbformat_minor": 0,
  "metadata": {
    "colab": {
      "name": "L1_09.03",
      "provenance": [],
      "authorship_tag": "ABX9TyOa7XkZwzob+JUyhC6J8zZ2",
      "include_colab_link": true
    },
    "kernelspec": {
      "name": "python3",
      "display_name": "Python 3"
    }
  },
  "cells": [
    {
      "cell_type": "markdown",
      "metadata": {
        "id": "view-in-github",
        "colab_type": "text"
      },
      "source": [
        "<a href=\"https://colab.research.google.com/github/KingaTeklak/homework/blob/main/L1_09_03.ipynb\" target=\"_parent\"><img src=\"https://colab.research.google.com/assets/colab-badge.svg\" alt=\"Open In Colab\"/></a>"
      ]
    },
    {
      "cell_type": "markdown",
      "metadata": {
        "id": "b262jodrQpJ4"
      },
      "source": [
        "# Lista nr **1**"
      ]
    },
    {
      "cell_type": "code",
      "metadata": {
        "id": "f3OnecuXQTd1"
      },
      "source": [
        "import random\r\n",
        "import copy"
      ],
      "execution_count": 3,
      "outputs": []
    },
    {
      "cell_type": "markdown",
      "metadata": {
        "id": "eD62GyxsR2eY"
      },
      "source": [
        "konstruktor przyjmujący rozmiar wektora jako argument (domyślnie\r\n",
        "3) # Czy w takim przypadku mogę też dać vector jako argument?"
      ]
    },
    {
      "cell_type": "code",
      "metadata": {
        "id": "Fs6bj1oTQ5BL"
      },
      "source": [
        "class Vector:\r\n",
        "  def __init__(self, vector= [], size = 3):\r\n",
        "    self.size = size\r\n",
        "    self.vector = vector\r\n",
        "\r\n",
        "  def vector_generate(self):\r\n",
        "    \"\"\"metoda zwraca wektor o wymiarze size\"\"\"\r\n",
        "    for i in range(self.size):\r\n",
        "      self.vector.append(random.randint(0,100))\r\n",
        "    return self.vector \r\n",
        "\r\n",
        "  def vector_from_list(self, lst):\r\n",
        "    \"\"\"wczytuje elementy wektora z listy podanej jako argument\"\"\"\r\n",
        "    self.size = len(lst)\r\n",
        "    self.vector = copy.deepcopy(lst)\r\n",
        "    return self.size, self.vector \r\n",
        "\r\n",
        "\r\n",
        "  def __add__(self, other_vector):\r\n",
        "    \"\"\"metoda dodaje do siebie wektory równych wymiarów\"\"\"\r\n",
        "    \r\n",
        "    if self.size != len(other_vector.vector):### Mam problem, żeby zrobić tak, że po dodaniu .size dostaje faktyczną długość wektora a nie przypisane 3\r\n",
        "      return ValueError\r\n",
        "    else:\r\n",
        "      new_vector = copy.deepcopy(vector_1.vector_generate()) ### new_vector = Vector(self.size) -> nie działa\r\n",
        "      print(new_vector, \"1\", other_vector.vector)\r\n",
        "      for i in range(self.size):\r\n",
        "        new_vector[i] += other_vector.vector[i]\r\n",
        "        print(new_vector)\r\n",
        "      return new_vector ### Z każdym uruchomieniem kodu vector_1 jest dłuższy o swoj pierwotny rozmiar\r\n",
        "\r\n",
        "  def scalar_multiplication(self, scalar):\r\n",
        "    \"\"\"metoda mnoży wektor przez skalar\"\"\"\r\n",
        "    new_vector = copy.deepcopy(vector_1.vector_generate())\r\n",
        "    print(new_vector)\r\n",
        "    for i in range(self.size):\r\n",
        "      new_vector[i] *= scalar\r\n",
        "    return new_vector\r\n",
        "\r\n",
        "  "
      ],
      "execution_count": 105,
      "outputs": []
    },
    {
      "cell_type": "code",
      "metadata": {
        "colab": {
          "base_uri": "https://localhost:8080/",
          "height": 330
        },
        "id": "7sKZSVFUVZu9",
        "outputId": "a90ff86a-f243-40a6-f6d3-f777f89db345"
      },
      "source": [
        "vector_1 = Vector()\r\n",
        "#vector_1 + Vector([1,2,3])\r\n",
        "#vector_1.__add__([1,2,3]) -> #AttributeError: 'list' object has no attribute 'vector'\r\n",
        "#vector_1.scalar_multiplication(2)"
      ],
      "execution_count": 107,
      "outputs": [
        {
          "output_type": "error",
          "ename": "AttributeError",
          "evalue": "ignored",
          "traceback": [
            "\u001b[0;31m---------------------------------------------------------------------------\u001b[0m",
            "\u001b[0;31mAttributeError\u001b[0m                            Traceback (most recent call last)",
            "\u001b[0;32m<ipython-input-107-41d4c189df5b>\u001b[0m in \u001b[0;36m<module>\u001b[0;34m()\u001b[0m\n\u001b[1;32m      1\u001b[0m \u001b[0mvector_1\u001b[0m \u001b[0;34m=\u001b[0m \u001b[0mVector\u001b[0m\u001b[0;34m(\u001b[0m\u001b[0;34m)\u001b[0m\u001b[0;34m\u001b[0m\u001b[0;34m\u001b[0m\u001b[0m\n\u001b[1;32m      2\u001b[0m \u001b[0;31m#vector_1 + Vector([1,2,3])\u001b[0m\u001b[0;34m\u001b[0m\u001b[0;34m\u001b[0m\u001b[0;34m\u001b[0m\u001b[0m\n\u001b[0;32m----> 3\u001b[0;31m \u001b[0mvector_1\u001b[0m\u001b[0;34m.\u001b[0m\u001b[0m__add__\u001b[0m\u001b[0;34m(\u001b[0m\u001b[0;34m[\u001b[0m\u001b[0;36m1\u001b[0m\u001b[0;34m,\u001b[0m\u001b[0;36m2\u001b[0m\u001b[0;34m,\u001b[0m\u001b[0;36m3\u001b[0m\u001b[0;34m]\u001b[0m\u001b[0;34m)\u001b[0m\u001b[0;34m\u001b[0m\u001b[0;34m\u001b[0m\u001b[0m\n\u001b[0m\u001b[1;32m      4\u001b[0m \u001b[0;31m#vector_1.scalar_multiplication(2)\u001b[0m\u001b[0;34m\u001b[0m\u001b[0;34m\u001b[0m\u001b[0;34m\u001b[0m\u001b[0m\n",
            "\u001b[0;32m<ipython-input-105-4ccc6ab5a280>\u001b[0m in \u001b[0;36m__add__\u001b[0;34m(self, other_vector)\u001b[0m\n\u001b[1;32m     20\u001b[0m     \u001b[0;34m\"\"\"metoda dodaje do siebie wektory równych wymiarów\"\"\"\u001b[0m\u001b[0;34m\u001b[0m\u001b[0;34m\u001b[0m\u001b[0m\n\u001b[1;32m     21\u001b[0m \u001b[0;34m\u001b[0m\u001b[0m\n\u001b[0;32m---> 22\u001b[0;31m     \u001b[0;32mif\u001b[0m \u001b[0mself\u001b[0m\u001b[0;34m.\u001b[0m\u001b[0msize\u001b[0m \u001b[0;34m!=\u001b[0m \u001b[0mlen\u001b[0m\u001b[0;34m(\u001b[0m\u001b[0mother_vector\u001b[0m\u001b[0;34m.\u001b[0m\u001b[0mvector\u001b[0m\u001b[0;34m)\u001b[0m\u001b[0;34m:\u001b[0m\u001b[0;31m### Mam problem, żeby zrobić tak, że po dodaniu .size dostaje faktyczną długość wektora a nie przypisane 3\u001b[0m\u001b[0;34m\u001b[0m\u001b[0;34m\u001b[0m\u001b[0m\n\u001b[0m\u001b[1;32m     23\u001b[0m       \u001b[0;32mreturn\u001b[0m \u001b[0mValueError\u001b[0m\u001b[0;34m\u001b[0m\u001b[0;34m\u001b[0m\u001b[0m\n\u001b[1;32m     24\u001b[0m     \u001b[0;32melse\u001b[0m\u001b[0;34m:\u001b[0m\u001b[0;34m\u001b[0m\u001b[0;34m\u001b[0m\u001b[0m\n",
            "\u001b[0;31mAttributeError\u001b[0m: 'list' object has no attribute 'vector'"
          ]
        }
      ]
    },
    {
      "cell_type": "code",
      "metadata": {
        "id": "7Np3QsD_n8d3"
      },
      "source": [
        ""
      ],
      "execution_count": null,
      "outputs": []
    }
  ]
}